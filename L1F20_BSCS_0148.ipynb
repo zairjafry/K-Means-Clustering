{
 "cells": [
  {
   "cell_type": "code",
   "execution_count": 83,
   "id": "d24c2eeb",
   "metadata": {},
   "outputs": [],
   "source": [
    "import pandas as pd\n",
    "import numpy as np \n",
    "import matplotlib.pyplot as plt "
   ]
  },
  {
   "cell_type": "code",
   "execution_count": 84,
   "id": "2ff29005",
   "metadata": {},
   "outputs": [
    {
     "data": {
      "text/html": [
       "<div>\n",
       "<style scoped>\n",
       "    .dataframe tbody tr th:only-of-type {\n",
       "        vertical-align: middle;\n",
       "    }\n",
       "\n",
       "    .dataframe tbody tr th {\n",
       "        vertical-align: top;\n",
       "    }\n",
       "\n",
       "    .dataframe thead th {\n",
       "        text-align: right;\n",
       "    }\n",
       "</style>\n",
       "<table border=\"1\" class=\"dataframe\">\n",
       "  <thead>\n",
       "    <tr style=\"text-align: right;\">\n",
       "      <th></th>\n",
       "      <th>Data</th>\n",
       "    </tr>\n",
       "  </thead>\n",
       "  <tbody>\n",
       "    <tr>\n",
       "      <th>0</th>\n",
       "      <td>89</td>\n",
       "    </tr>\n",
       "    <tr>\n",
       "      <th>1</th>\n",
       "      <td>21</td>\n",
       "    </tr>\n",
       "    <tr>\n",
       "      <th>2</th>\n",
       "      <td>321</td>\n",
       "    </tr>\n",
       "    <tr>\n",
       "      <th>3</th>\n",
       "      <td>33</td>\n",
       "    </tr>\n",
       "    <tr>\n",
       "      <th>4</th>\n",
       "      <td>4</td>\n",
       "    </tr>\n",
       "    <tr>\n",
       "      <th>5</th>\n",
       "      <td>35</td>\n",
       "    </tr>\n",
       "    <tr>\n",
       "      <th>6</th>\n",
       "      <td>65</td>\n",
       "    </tr>\n",
       "    <tr>\n",
       "      <th>7</th>\n",
       "      <td>3</td>\n",
       "    </tr>\n",
       "    <tr>\n",
       "      <th>8</th>\n",
       "      <td>23</td>\n",
       "    </tr>\n",
       "    <tr>\n",
       "      <th>9</th>\n",
       "      <td>32</td>\n",
       "    </tr>\n",
       "    <tr>\n",
       "      <th>10</th>\n",
       "      <td>443</td>\n",
       "    </tr>\n",
       "    <tr>\n",
       "      <th>11</th>\n",
       "      <td>6</td>\n",
       "    </tr>\n",
       "    <tr>\n",
       "      <th>12</th>\n",
       "      <td>65</td>\n",
       "    </tr>\n",
       "    <tr>\n",
       "      <th>13</th>\n",
       "      <td>857</td>\n",
       "    </tr>\n",
       "    <tr>\n",
       "      <th>14</th>\n",
       "      <td>6</td>\n",
       "    </tr>\n",
       "    <tr>\n",
       "      <th>15</th>\n",
       "      <td>321</td>\n",
       "    </tr>\n",
       "  </tbody>\n",
       "</table>\n",
       "</div>"
      ],
      "text/plain": [
       "    Data\n",
       "0     89\n",
       "1     21\n",
       "2    321\n",
       "3     33\n",
       "4      4\n",
       "5     35\n",
       "6     65\n",
       "7      3\n",
       "8     23\n",
       "9     32\n",
       "10   443\n",
       "11     6\n",
       "12    65\n",
       "13   857\n",
       "14     6\n",
       "15   321"
      ]
     },
     "execution_count": 84,
     "metadata": {},
     "output_type": "execute_result"
    }
   ],
   "source": [
    "x=pd.read_csv(\"data.csv\",header=None)\n",
    "head=[\"Data\",]\n",
    "x.columns=head\n",
    "x"
   ]
  },
  {
   "cell_type": "code",
   "execution_count": 85,
   "id": "4bfa484d",
   "metadata": {},
   "outputs": [
    {
     "data": {
      "image/png": "[encoded data removed]",
      "text/plain": [
       "<Figure size 432x288 with 1 Axes>"
      ]
     },
     "metadata": {
      "needs_background": "light"
     },
     "output_type": "display_data"
    }
   ],
   "source": [
    "plt.plot(x,color=\"None\",marker=\"o\",markerfacecolor=\"blue\")\n",
    "plt.title(\"Data\")\n",
    "plt.show()\n",
    "#visualization of unclustered DATA"
   ]
  },
  {
   "cell_type": "code",
   "execution_count": 86,
   "id": "1fe90045",
   "metadata": {},
   "outputs": [
    {
     "data": {
      "image/png": "[encoded data removed]",
      "text/plain": [
       "<Figure size 432x288 with 1 Axes>"
      ]
     },
     "metadata": {
      "needs_background": "light"
     },
     "output_type": "display_data"
    }
   ],
   "source": [
    "#assigning 2 centroids randomly \n",
    "centroid1=4\n",
    "centroid2=321\n",
    "plt.plot(x,color=\"None\",marker=\"o\",markerfacecolor=\"blue\")\n",
    "plt.plot(4,4,marker=\"o\",markerfacecolor=\"yellow\", markersize=10)\n",
    "plt.plot(15,321,marker=\"o\",markerfacecolor=\"yellow\", markersize=10)\n",
    "plt.title(\"DATA with centroids\")\n",
    "plt.show()"
   ]
  },
  {
   "cell_type": "code",
   "execution_count": 87,
   "id": "23a002d1",
   "metadata": {},
   "outputs": [
    {
     "name": "stdout",
     "output_type": "stream",
     "text": [
      "c1  4 c2  321 \n",
      "\n",
      "temp c1  31.833333333333332 temp_c2 485.5 \n",
      "\n",
      "c1  31.833333333333332 c2  485.5 \n",
      "\n"
     ]
    }
   ],
   "source": [
    "#making 2 clusters.\n",
    "cluster1=[]\n",
    "cluster2=[]\n",
    "temp_c1=-1\n",
    "temp_c2=-1\n",
    "while(centroid1!=temp_c1 and centroid2!=temp_c2):\n",
    "    sum=0\n",
    "    cluster1=[]\n",
    "    cluster2=[]\n",
    "    for v in x[\"Data\"]:\n",
    "        d1=v-centroid1\n",
    "        d2=v-centroid2\n",
    "        if(d1<0):\n",
    "            d1=d1*-1\n",
    "        if(d2<0):\n",
    "            d2=d2*-1\n",
    "        #the grouping part\n",
    "        if(d1==d2):\n",
    "            if(len(cluster1)<len(cluster2)):\n",
    "                cluster1=cluster1+[v]\n",
    "            else:\n",
    "                cluster2=cluster2+[v]\n",
    "        elif(d1<d2):\n",
    "            cluster1=cluster1+[v]\n",
    "        else:\n",
    "            cluster2=cluster2+[v]\n",
    "    #after the clusters are filled with data points from the data set. we will find new centroids by taking average.\n",
    "    for k in cluster1:\n",
    "        sum=sum+k\n",
    "    if(len(cluster1)>0):\n",
    "        temp_c1=sum/len(cluster1)\n",
    "    else:\n",
    "        temp_c1=0\n",
    "    sum=0\n",
    "    for k in cluster2:\n",
    "        sum=sum+k\n",
    "    if(len(cluster2)>0):\n",
    "        temp_c2=sum/len(cluster2)\n",
    "    else:\n",
    "        temp_c2=0\n",
    "    #4th step checking wether to ietrate or not\n",
    "    if(temp_c1==centroid1 and temp_c2==centroid2):\n",
    "        print(\"c1 \",centroid1,\"c2 \",centroid2,\"\\n\")\n",
    "        break\n",
    "    else:\n",
    "        print(\"c1 \",centroid1 ,\"c2 \",centroid2,\"\\n\")\n",
    "        print(\"temp c1 \",temp_c1,\"temp_c2\",temp_c2,\"\\n\")\n",
    "        centroid1=temp_c1\n",
    "        centroid2=temp_c2\n",
    "        temp_c1=-1\n",
    "        temp_c2=-1\n",
    "        \n",
    "    \n",
    "            \n",
    "            "
   ]
  },
  {
   "cell_type": "code",
   "execution_count": 88,
   "id": "0a742bc7",
   "metadata": {},
   "outputs": [
    {
     "name": "stdout",
     "output_type": "stream",
     "text": [
      "[89, 21, 33, 4, 35, 65, 3, 23, 32, 6, 65, 6]\n"
     ]
    }
   ],
   "source": [
    "print(cluster1)"
   ]
  },
  {
   "cell_type": "code",
   "execution_count": 89,
   "id": "a9299870",
   "metadata": {},
   "outputs": [
    {
     "name": "stdout",
     "output_type": "stream",
     "text": [
      "[321, 443, 857, 321]\n"
     ]
    }
   ],
   "source": [
    "print(cluster2)"
   ]
  },
  {
   "cell_type": "code",
   "execution_count": 90,
   "id": "e686ac54",
   "metadata": {},
   "outputs": [
    {
     "data": {
      "image/png": "[encoded data removed]",
      "text/plain": [
       "<Figure size 432x288 with 1 Axes>"
      ]
     },
     "metadata": {
      "needs_background": "light"
     },
     "output_type": "display_data"
    }
   ],
   "source": [
    "#plt.plot(x,color=\"None\",marker=\"o\",markerfacecolor=\"blue\")\n",
    "plt.plot(cluster1,color=\"None\",marker=\"o\",markerfacecolor=\"orange\", markersize=6)\n",
    "plt.plot(cluster2,color=\"None\",marker=\"o\",markerfacecolor=\"yellow\", markersize=6)\n",
    "plt.title(\"DATA with Grouped Clusters\")\n",
    "plt.show()"
   ]
  },
  {
   "cell_type": "code",
   "execution_count": null,
   "id": "e2d4328e",
   "metadata": {},
   "outputs": [],
   "source": []
  }
 ],
 "metadata": {
  "kernelspec": {
   "display_name": "Python 3 (ipykernel)",
   "language": "python",
   "name": "python3"
  },
  "language_info": {
   "codemirror_mode": {
    "name": "ipython",
    "version": 3
   },
   "file_extension": ".py",
   "mimetype": "text/x-python",
   "name": "python",
   "nbconvert_exporter": "python",
   "pygments_lexer": "ipython3",
   "version": "3.9.7"
  }
 },
 "nbformat": 4,
 "nbformat_minor": 5
}
